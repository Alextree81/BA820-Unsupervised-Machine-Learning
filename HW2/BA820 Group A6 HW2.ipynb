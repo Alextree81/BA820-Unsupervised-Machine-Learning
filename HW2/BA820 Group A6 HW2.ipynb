{
 "cells": [
  {
   "cell_type": "markdown",
   "metadata": {},
   "source": [
    "# BA 820 Homework 2\n",
    "\n",
    "Group Name:Machine not learning\n",
    "\n",
    "Member Names: Shu Wang, Guang Yang , Jiadai Yu, Zheman Zhong, Sheng Zhou.\n",
    "\n",
    "Reminder: you should not be sharing code across groups"
   ]
  },
  {
   "cell_type": "markdown",
   "metadata": {},
   "source": [
    "## Question 1: Clustering emails using Gaussian Mixture Models [50 pts]"
   ]
  },
  {
   "cell_type": "markdown",
   "metadata": {},
   "source": [
    "For this problem, we will be analyzing emails taken from the [Enron Email Dataset](https://www.cs.cmu.edu/~enron/). We have already curated the data for you in the `data/enron` directory, with one file per email (so there is no need to redownload the dataset as it is already included in this homework zip archive). The dataset includes a combination of \"spam\" and \"ham\" emails. Spam emails are unsolicited messages intended to sell a product or scam users into providing personal information, while ham emails represent everything that is not spam.\n",
    "\n",
    "The language used in spam emails tends to be considerably different from typical business emails. Most spam filters leverage this difference in word frequencies to detect spam as it arrives and filter it out of email inboxes. We will use Gaussian Mixture Models (GMMs) to cluster the emails and attempt to identify groups of emails which are likely to be spam."
   ]
  },
  {
   "cell_type": "markdown",
   "metadata": {},
   "source": [
    "### Part A: Construct a list of processed documents [10 points]"
   ]
  },
  {
   "cell_type": "markdown",
   "metadata": {},
   "source": [
    "Provided below is a function that returns a document present in a file given a filename. The function performs some preprocessing to (1) remove punctuation, (2),(3) remove whitespace and (4) lowercase all words. Using the `make_word_list` function, construct a list of processed documents."
   ]
  },
  {
   "cell_type": "code",
   "execution_count": 1,
   "metadata": {},
   "outputs": [],
   "source": [
    "import re\n",
    "import string\n",
    "import codecs\n",
    "\n",
    "def make_word_list(path):\n",
    "    \n",
    "    with codecs.open(path, \"r\", encoding='utf-8', errors='ignore') as f:\n",
    "        corpus_text = f.read()\n",
    "\n",
    "    for c in string.punctuation:\n",
    "        corpus_text = corpus_text.replace(c, \"\")  # -- (1)\n",
    "    \n",
    "    text = re.sub(r'\\S*\\d\\S*', '', corpus_text) # -- (2)\n",
    "    text = re.sub(r'[^\\w\\s]', '', text)         # -- (3)\n",
    "    \n",
    "    text = text.lower().split()           # -- (4)         \n",
    "    \n",
    "    li = []\n",
    "    for token in text:\n",
    "        li.append(token)\n",
    "\n",
    "    return \" \".join(li)"
   ]
  },
  {
   "cell_type": "code",
   "execution_count": 2,
   "metadata": {},
   "outputs": [],
   "source": [
    "import os\n",
    "\n",
    "data_dir = \"data/enron\"\n",
    "\n",
    "processed_docs = []\n",
    "\n",
    "for filename in os.listdir(data_dir):\n",
    "    if filename.endswith(\".txt\"):\n",
    "        path = os.path.join(data_dir, filename)\n",
    "        doc = make_word_list(path)\n",
    "        processed_docs.append(doc)\n"
   ]
  },
  {
   "cell_type": "code",
   "execution_count": 3,
   "metadata": {},
   "outputs": [
    {
     "name": "stdout",
     "output_type": "stream",
     "text": [
      "['subject leadership development pilot sally what timing ask and you shall receive as per our discussion listed below is an update on the leadership pilot your vendor selection team will receive an update and even more information later in the week on the lunch learn for energy operations the audience and focus will be your group we are ready to start up when appropriate thank you for your time today please call me if you have any questions at x forwarded by julie armstrong corp enron on pm from susan runkel ect pm to cindy skinner hou ect ect brad mcsherry hou ect ect norma villarreal hou ect ect kimberly rizzi hou ect ect fran l mayes hou ect ect gary buck hou ect ect robert jones corp enron enron sheila walton hou ect ect philip conn corp enron enron mary overgaard pdx ect ect kim melodick hou ect ect valeria a hope hou ect ect cc david oxley hou ect ect susan carrera hou ect ect jane allen hou ect ect christine shenkman enron development enron development kathryn mclean hou ect ect gracie s presas hou ect ect janice riedel hou ect ect julie armstrong corp enron enron subject leadership development pilot good news regarding the ena leadership curriculum through the help of a vendor selection team from eops we ve chosen southwest performance group and wilson learning products as one of our primary vendors for the leadership curriculum and programs we are ready to conduct a pilot on february of six modules the purpose of the pilot is to evaluate for fine tuning the wilson learning materials and facilitators and to present just a portion of the leadership curriculum in order to evaluate the materials thoroughly it would be great to get a cross section of ena to attend we are asking that you invite several supervisors from your client groups to participate in any of the courses listed below the sessions will be held in room and times are listed below also attached is a description of the modules all are designed for supervisors only with the exception being communicating effectively this is open to any employee as a benefit in attending the pilot i will pick up the cost so there will be no charge back for their attendance we are currently completing the curriculum design and will have information on the full curriculum available in february this will include options other than classrom setting for development please respond back to gracie presas by february with your names if you have further questions please contact me at we are really excited that we have this available and hope that your clients will find it to be valuable the following are half day sessions supervisors may sign up for any or all depending on their need it would be helpful if supervisors attend a minimum of two modules date module time target audience feb meeting leadership challenges am supervisors with less than months experience working styles pm any supervisor feb coaching to performance am any supervisor motivating for results pm any supervisor feb communicating effectively am any employee delegating and directing pm any supervisor', 'subject fw this is the solution i mentioned lsc oo thank you your email address was obtained from a purchased list reference mid if you wish to unsubscribe from this list please click here and enter your name into the remove box if you have previously unsubscribed and are still receiving this message you may email our abuse control center or call or write us at nospam coral way miami fl web credit inc all rights reserved']\n"
     ]
    }
   ],
   "source": [
    "print(processed_docs[:2]) # checking, printing the first few elements of the list "
   ]
  },
  {
   "cell_type": "markdown",
   "metadata": {},
   "source": [
    "### Part B: Construct a document matrix [10 points]"
   ]
  },
  {
   "cell_type": "markdown",
   "metadata": {},
   "source": [
    "Next, construct a document matrix `X` as a matrix of [TF-IDF](https://en.wikipedia.org/wiki/Tf%E2%80%93idf) features for each document. TF-IDF features encode information about the word frequency within a document, weighted by the frequency of the same word for corpus as a whole.\n",
    "\n",
    "   - Use the `TfidfVectorizer` from [scikit-learn](http://scikit-learn.org/stable/modules/generated/sklearn.feature_extraction.text.TfidfVectorizer.html) to create the document matrix `X`.\n",
    "   - Set `min_df=50`; this drops words that don't occur in at least 50 documents.\n",
    "   - Set `stop_words=\"english\"` and `max_df=0.8` to filter out stop-words.\n",
    "   - Print the number of unique words in the vocabulary Hint: Look for the `vocabulary_` attribute in the `TfidfVectorizer` object after fitting the vectorizer to the data set. The vocabulary will also be needed in part (d)."
   ]
  },
  {
   "cell_type": "code",
   "execution_count": 4,
   "metadata": {},
   "outputs": [],
   "source": [
    "from sklearn.feature_extraction.text import TfidfVectorizer\n",
    "\n",
    "vectorizer = TfidfVectorizer(min_df=50, stop_words=\"english\", max_df=0.8)\n",
    "X = vectorizer.fit_transform(processed_docs)"
   ]
  },
  {
   "cell_type": "code",
   "execution_count": 5,
   "metadata": {},
   "outputs": [
    {
     "name": "stdout",
     "output_type": "stream",
     "text": [
      "Number of unique words in the vocabulary: 1680\n"
     ]
    }
   ],
   "source": [
    "print(\"Number of unique words in the vocabulary:\", len(vectorizer.vocabulary_))"
   ]
  },
  {
   "cell_type": "markdown",
   "metadata": {},
   "source": [
    "### Part C: Perform Clustering [10 points]"
   ]
  },
  {
   "cell_type": "markdown",
   "metadata": {},
   "source": [
    "Perform clustering on the document matrix `X` using GMMs. \n",
    "- Use the `GaussianMixture` module from [scikit-learn](http://scikit-learn.org/stable/modules/generated/sklearn.mixture.GaussianMixture.html) to cluster the documents.\n",
    "- Set the number of clusters (mixture components) to 3.\n",
    "- Print the number of documents assigned to each cluster."
   ]
  },
  {
   "cell_type": "code",
   "execution_count": 6,
   "metadata": {},
   "outputs": [
    {
     "name": "stdout",
     "output_type": "stream",
     "text": [
      "Number of documents assigned to cluster 0 : 363 ( 7.0199187777992655 %)\n",
      "Number of documents assigned to cluster 1 : 1785 ( 34.519435312318706 %)\n",
      "Number of documents assigned to cluster 2 : 3023 ( 58.46064590988204 %)\n"
     ]
    }
   ],
   "source": [
    "from sklearn.mixture import GaussianMixture\n",
    "import numpy as np\n",
    "\n",
    "gmm = GaussianMixture(n_components=3, random_state = 0)\n",
    "gmm.fit(X.toarray())\n",
    "clusters = gmm.predict(X.toarray()) #is predicted cluster assignments returned by GaussianMixture.predict()\n",
    "\n",
    "n_docs = len(clusters)\n",
    "for i in range(3):\n",
    "    n_assigned = np.bincount(clusters)[i]\n",
    "    print(\"Number of documents assigned to cluster\", i, \":\", n_assigned, \"(\", n_assigned/n_docs*100, \"%)\")"
   ]
  },
  {
   "cell_type": "markdown",
   "metadata": {},
   "source": [
    "### Part D: Characterize the clusters [10 points]"
   ]
  },
  {
   "cell_type": "markdown",
   "metadata": {},
   "source": [
    "Now, we will attempt to characterize the clusters based on the frequency of spam-relevant words. \n",
    "- Select 3 \"spammy\" words from the vocabulary that you expect to occur frequently in spam emails and less frequently in normal business emails (e.g., 'click', 'www', 'offer'). Construct a list, `spam_indices`, storing the indices of the spammy words you selected in the vocabulary generated by `TfidfVectorizer`.\n",
    "- Select 3 \"hammy\" words from the vocabulary you think will occur frequently in business emails and infrequently in spam emails (e.g., 'meeting', 'attached', 'review'). Construct a list, `ham_indices`, storing the indices of the hammy words you selected in the vocabulary generated by `TfidfVectorizer`.\n",
    "- Use the function provided below, `plot_spam_words_by_cluster`, to plot the average TF-IDF features for your selected spammy words and hammy words for each cluster. The function takes the following parameters:\n",
    "    - `X` is a matrix of TF-IDF features (rows index documents, columns index terms).\n",
    "    - `predicted` is predicted cluster assignments returned by `GaussianMixture.predict()`\n",
    "    - `n_clusters` is the number of clusters. This should match the number of clusters from your GMM.\n",
    "    - `spam_indices` is a list of indices of spammy words in the vocabulary.\n",
    "    - `ham_indices` is a list of indices of hammy (typical business) words in the vocabulary."
   ]
  },
  {
   "cell_type": "code",
   "execution_count": 7,
   "metadata": {},
   "outputs": [],
   "source": [
    "def plot_spam_words_by_cluster(X, predicted, n_clusters, spam_indices, ham_indices):\n",
    "    import numpy as np\n",
    "    import matplotlib.pyplot as plt\n",
    "    \n",
    "    # Calculate mean TF-IDF features for each cluster\n",
    "    mean_tfidf_spam = []\n",
    "    mean_tfidf_ham = []\n",
    "    for spam in spam_indices:\n",
    "        mean_tfidf_spam.append([])\n",
    "    for ham in ham_indices:\n",
    "        mean_tfidf_ham.append([])\n",
    "    \n",
    "    for i in range(n_clusters):\n",
    "        for j, spam_idx in enumerate(spam_indices):\n",
    "            mean_tfidf_spam[j].append(X[predicted==i, spam_idx].mean())\n",
    "        for j, ham_idx in enumerate(ham_indices):\n",
    "            mean_tfidf_ham[j].append(X[predicted==i, ham_idx].mean())\n",
    "    \n",
    "    # Generate plot\n",
    "    fig, ax = plt.subplots()\n",
    "\n",
    "    ind = np.arange(n_clusters)    # the x locations for the groups\n",
    "    width = 0.10         # the width of the bars\n",
    "\n",
    "    # Plot spam bars\n",
    "    for i, val in enumerate(mean_tfidf_spam):\n",
    "        spam_bar = ax.bar(ind - (len(mean_tfidf_spam)-i-1)*width, val, width, color='r', bottom=0)\n",
    "\n",
    "    # Plot ham bars\n",
    "    for i, val in enumerate(mean_tfidf_ham):\n",
    "        ham_bar = ax.bar(ind + (len(mean_tfidf_ham)-i)*width, val, width,\n",
    "                color='y', bottom=0)\n",
    "\n",
    "    ax.set_title('Mean TF-IDF Features by Cluster for Spam-Relevant Words')\n",
    "    ax.set_xticks(ind + width / 2)\n",
    "    xticklabels = []\n",
    "    for i in range(n_clusters):\n",
    "        xticklabels.append('Cluster ' + str(i) + '\\n(n=' + str((predicted==i).sum()) + ')')\n",
    "    ax.set_xticklabels(xticklabels)\n",
    "\n",
    "    ax.legend((spam_bar[0], ham_bar[0]), ('Spammy words', 'Hammy words'))\n",
    "    ax.autoscale_view()\n",
    "    ax.set_ylabel('Mean TF-IDF')\n",
    "    plt.show()"
   ]
  },
  {
   "cell_type": "code",
   "execution_count": 8,
   "metadata": {},
   "outputs": [],
   "source": [
    "# Get the feature names from the TfidfVectorizer vocabulary\n",
    "feature_names = vectorizer.get_feature_names()\n",
    "\n",
    "# Define \"spammy\" words\n",
    "spammy_words = ['click', 'offer', 'www']\n",
    "spam_indices = [feature_names.index(word) for word in spammy_words]\n",
    "\n",
    "# Define \"hammy\" words\n",
    "hammy_words = ['meeting', 'attached', 'review']\n",
    "ham_indices = [feature_names.index(word) for word in hammy_words]"
   ]
  },
  {
   "cell_type": "code",
   "execution_count": 9,
   "metadata": {},
   "outputs": [
    {
     "data": {
      "image/png": "[encoded data removed]",
      "text/plain": [
       "<Figure size 432x288 with 1 Axes>"
      ]
     },
     "metadata": {
      "needs_background": "light"
     },
     "output_type": "display_data"
    }
   ],
   "source": [
    "plot_spam_words_by_cluster(X, clusters, 3, spam_indices, ham_indices)"
   ]
  },
  {
   "cell_type": "markdown",
   "metadata": {},
   "source": [
    "### Part E: Interpret results [10 points]"
   ]
  },
  {
   "cell_type": "markdown",
   "metadata": {},
   "source": [
    "From the plot generated in part (d), do any of the clusters correspond to spam emails, based on the frequency of spammy and hammy words? Do any of the clusters appear to correspond to typical business emails (ham)? \n",
    "\n",
    "Re-run your analysis with a different choice for the number of clusters in your GMM (e.g., `n_clusters=5` or `n_clusters=2`). How does changing the number of clusters affect your results? Does one choice of `n_clusters` appear better than another for locating clusters of spam emails?"
   ]
  },
  {
   "cell_type": "markdown",
   "metadata": {},
   "source": [
    "*** According to the plot above, cluster 0 seems to correspond to ham emails while cluster 1 correspond to spam emails. And cluster 2 does not correspond to both, since it contains similar numbers of spam and ham words***"
   ]
  },
  {
   "cell_type": "code",
   "execution_count": 10,
   "metadata": {},
   "outputs": [
    {
     "data": {
      "image/png": "[encoded data removed]",
      "text/plain": [
       "<Figure size 432x288 with 1 Axes>"
      ]
     },
     "metadata": {
      "needs_background": "light"
     },
     "output_type": "display_data"
    }
   ],
   "source": [
    "# rerun analysis with n_clusters=5\n",
    "gmm = GaussianMixture(n_components=5, random_state=0)#n_clusters=5\n",
    "gmm.fit(X.toarray())\n",
    "\n",
    "predicted = gmm.predict(X.toarray())\n",
    "\n",
    "plot_spam_words_by_cluster(X, predicted, 5, spam_indices, ham_indices)"
   ]
  },
  {
   "cell_type": "markdown",
   "metadata": {},
   "source": [
    "*** As we can see,if we increase the number of clusters,the clusters seems to have better performance on distinguishing spammy and hammy emails.However, this also depends on the random state that we chosen. The results could be unstable if we increase number of clusters. ***"
   ]
  },
  {
   "cell_type": "markdown",
   "metadata": {},
   "source": [
    "## Question 2: Latent \"Purposes\" in Mobile Apps [50 points]\n",
    "\n",
    "\n",
    "Think of Android applications as \"documents\", where \"words\" are the \"permissions\" that each app requests. Each app has a set of latent \"purposes\" (topics); a \"purpose\" may be a specific task (such as taking photographs and uploading them to the internet), and an application may have a mixture of purposes of varying strength.\n",
    "\n",
    "Can we uncover these purposes from a dataset of Android applications and the permissions they request?"
   ]
  },
  {
   "cell_type": "code",
   "execution_count": 11,
   "metadata": {},
   "outputs": [],
   "source": [
    "import numpy as np\n",
    "import matplotlib.pyplot as plt\n",
    "import pandas as pd\n",
    "%matplotlib inline"
   ]
  },
  {
   "cell_type": "markdown",
   "metadata": {},
   "source": [
    "### Part A: Load the data [0 points]"
   ]
  },
  {
   "cell_type": "markdown",
   "metadata": {},
   "source": [
    "The [dataset](http://www.mariofrank.net/andrApps/) contains ~180,000 applications from the Android app store, including each app's name, description and permissions requested. For more about Android app permissions, see [this report](http://www.pewinternet.org/2015/11/10/an-analysis-of-android-app-permissions/).\n",
    "\n",
    "   * Download the data and unzip it into the same folder as this notebook.\n",
    "   * Rename the CSV file to \"android.csv\".\n",
    "   * Run the cells below to load the data into the notebook.\n",
    "\n",
    "This may take up ~2GB of RAM."
   ]
  },
  {
   "cell_type": "code",
   "execution_count": 12,
   "metadata": {},
   "outputs": [],
   "source": [
    "df = pd.read_csv(\"android.csv\", sep=\",\",  thousands=\",\")"
   ]
  },
  {
   "cell_type": "code",
   "execution_count": 13,
   "metadata": {},
   "outputs": [],
   "source": [
    "df[\"Number of ratings\"] = df[\"Number of ratings\"].astype(int) # fix data type\n",
    "df = df.drop_duplicates(subset=[\"App\"]).reset_index(drop=True)"
   ]
  },
  {
   "cell_type": "code",
   "execution_count": 14,
   "metadata": {},
   "outputs": [
    {
     "data": {
      "text/html": [
       "<div>\n",
       "<style scoped>\n",
       "    .dataframe tbody tr th:only-of-type {\n",
       "        vertical-align: middle;\n",
       "    }\n",
       "\n",
       "    .dataframe tbody tr th {\n",
       "        vertical-align: top;\n",
       "    }\n",
       "\n",
       "    .dataframe thead th {\n",
       "        text-align: right;\n",
       "    }\n",
       "</style>\n",
       "<table border=\"1\" class=\"dataframe\">\n",
       "  <thead>\n",
       "    <tr style=\"text-align: right;\">\n",
       "      <th></th>\n",
       "      <th>App</th>\n",
       "      <th>Package</th>\n",
       "      <th>Category</th>\n",
       "      <th>Description</th>\n",
       "      <th>Rating</th>\n",
       "      <th>Number of ratings</th>\n",
       "      <th>Price</th>\n",
       "      <th>Related apps</th>\n",
       "      <th>Dangerous permissions count</th>\n",
       "      <th>Safe permissions count</th>\n",
       "      <th>...</th>\n",
       "      <th>Your personal information : read Browser's history and bookmarks (D)</th>\n",
       "      <th>Your personal information : read calendar events (D)</th>\n",
       "      <th>Your personal information : read contact data (D)</th>\n",
       "      <th>Your personal information : read sensitive log data (D)</th>\n",
       "      <th>Your personal information : read user defined dictionary (D)</th>\n",
       "      <th>Your personal information : retrieve system internal state (S)</th>\n",
       "      <th>Your personal information : set alarm in alarm clock (S)</th>\n",
       "      <th>Your personal information : write Browser's history and bookmarks (D)</th>\n",
       "      <th>Your personal information : write contact data (D)</th>\n",
       "      <th>Your personal information : write to user defined dictionary (S)</th>\n",
       "    </tr>\n",
       "  </thead>\n",
       "  <tbody>\n",
       "    <tr>\n",
       "      <th>0</th>\n",
       "      <td>Google Maps</td>\n",
       "      <td>com.google.android.apps.maps</td>\n",
       "      <td>Travel &amp; Local</td>\n",
       "      <td>Download the latest release of Google Maps, an...</td>\n",
       "      <td>4.4</td>\n",
       "      <td>1438259</td>\n",
       "      <td>$0.00</td>\n",
       "      <td>{com.jsdfproductions.ctatrackerpro, com.alk.co...</td>\n",
       "      <td>17.0</td>\n",
       "      <td>8</td>\n",
       "      <td>...</td>\n",
       "      <td>0</td>\n",
       "      <td>0</td>\n",
       "      <td>1</td>\n",
       "      <td>0</td>\n",
       "      <td>0</td>\n",
       "      <td>0</td>\n",
       "      <td>0</td>\n",
       "      <td>0</td>\n",
       "      <td>1</td>\n",
       "      <td>0</td>\n",
       "    </tr>\n",
       "    <tr>\n",
       "      <th>1</th>\n",
       "      <td>Snowfall Live Wallpaper</td>\n",
       "      <td>fishnoodle.snowfall_free</td>\n",
       "      <td>Personalization</td>\n",
       "      <td>Snowfall Live Wallpaper: Wintertime on your ho...</td>\n",
       "      <td>4.3</td>\n",
       "      <td>18147</td>\n",
       "      <td>$0.00</td>\n",
       "      <td>{colfore.wallpaper.snowfree, com.tabsoft.wallp...</td>\n",
       "      <td>0.0</td>\n",
       "      <td>0</td>\n",
       "      <td>...</td>\n",
       "      <td>0</td>\n",
       "      <td>0</td>\n",
       "      <td>0</td>\n",
       "      <td>0</td>\n",
       "      <td>0</td>\n",
       "      <td>0</td>\n",
       "      <td>0</td>\n",
       "      <td>0</td>\n",
       "      <td>0</td>\n",
       "      <td>0</td>\n",
       "    </tr>\n",
       "    <tr>\n",
       "      <th>2</th>\n",
       "      <td>Aquarium Live Wallpaper</td>\n",
       "      <td>fishnoodle.aquarium_free</td>\n",
       "      <td>Personalization</td>\n",
       "      <td>A beautiful tropical fish tank live wallpaper!...</td>\n",
       "      <td>4.1</td>\n",
       "      <td>62145</td>\n",
       "      <td>$0.00</td>\n",
       "      <td>{com.convisual.lwp.fishometerlite, com.accessl...</td>\n",
       "      <td>0.0</td>\n",
       "      <td>0</td>\n",
       "      <td>...</td>\n",
       "      <td>0</td>\n",
       "      <td>0</td>\n",
       "      <td>0</td>\n",
       "      <td>0</td>\n",
       "      <td>0</td>\n",
       "      <td>0</td>\n",
       "      <td>0</td>\n",
       "      <td>0</td>\n",
       "      <td>0</td>\n",
       "      <td>0</td>\n",
       "    </tr>\n",
       "  </tbody>\n",
       "</table>\n",
       "<p>3 rows × 183 columns</p>\n",
       "</div>"
      ],
      "text/plain": [
       "                       App                       Package         Category  \\\n",
       "0              Google Maps  com.google.android.apps.maps   Travel & Local   \n",
       "1  Snowfall Live Wallpaper      fishnoodle.snowfall_free  Personalization   \n",
       "2  Aquarium Live Wallpaper      fishnoodle.aquarium_free  Personalization   \n",
       "\n",
       "                                         Description  Rating  \\\n",
       "0  Download the latest release of Google Maps, an...     4.4   \n",
       "1  Snowfall Live Wallpaper: Wintertime on your ho...     4.3   \n",
       "2  A beautiful tropical fish tank live wallpaper!...     4.1   \n",
       "\n",
       "   Number of ratings  Price  \\\n",
       "0            1438259  $0.00   \n",
       "1              18147  $0.00   \n",
       "2              62145  $0.00   \n",
       "\n",
       "                                        Related apps  \\\n",
       "0  {com.jsdfproductions.ctatrackerpro, com.alk.co...   \n",
       "1  {colfore.wallpaper.snowfree, com.tabsoft.wallp...   \n",
       "2  {com.convisual.lwp.fishometerlite, com.accessl...   \n",
       "\n",
       "   Dangerous permissions count  Safe permissions count  ...  \\\n",
       "0                         17.0                       8  ...   \n",
       "1                          0.0                       0  ...   \n",
       "2                          0.0                       0  ...   \n",
       "\n",
       "   Your personal information : read Browser's history and bookmarks (D)  \\\n",
       "0                                                  0                      \n",
       "1                                                  0                      \n",
       "2                                                  0                      \n",
       "\n",
       "   Your personal information : read calendar events (D)  \\\n",
       "0                                                  0      \n",
       "1                                                  0      \n",
       "2                                                  0      \n",
       "\n",
       "   Your personal information : read contact data (D)  \\\n",
       "0                                                  1   \n",
       "1                                                  0   \n",
       "2                                                  0   \n",
       "\n",
       "   Your personal information : read sensitive log data (D)  \\\n",
       "0                                                  0         \n",
       "1                                                  0         \n",
       "2                                                  0         \n",
       "\n",
       "   Your personal information : read user defined dictionary (D)  \\\n",
       "0                                                  0              \n",
       "1                                                  0              \n",
       "2                                                  0              \n",
       "\n",
       "   Your personal information : retrieve system internal state (S)  \\\n",
       "0                                                  0                \n",
       "1                                                  0                \n",
       "2                                                  0                \n",
       "\n",
       "   Your personal information : set alarm in alarm clock (S)  \\\n",
       "0                                                  0          \n",
       "1                                                  0          \n",
       "2                                                  0          \n",
       "\n",
       "   Your personal information : write Browser's history and bookmarks (D)  \\\n",
       "0                                                  0                       \n",
       "1                                                  0                       \n",
       "2                                                  0                       \n",
       "\n",
       "   Your personal information : write contact data (D)  \\\n",
       "0                                                  1    \n",
       "1                                                  0    \n",
       "2                                                  0    \n",
       "\n",
       "   Your personal information : write to user defined dictionary (S)  \n",
       "0                                                  0                 \n",
       "1                                                  0                 \n",
       "2                                                  0                 \n",
       "\n",
       "[3 rows x 183 columns]"
      ]
     },
     "execution_count": 14,
     "metadata": {},
     "output_type": "execute_result"
    }
   ],
   "source": [
    "df.head(n=3)"
   ]
  },
  {
   "cell_type": "markdown",
   "metadata": {},
   "source": [
    "### Part B: Convert each app into a \"document\" [0 points]\n",
    "\n",
    "The code below does the following:\n",
    "\n",
    "   * Filter out all the columns except the permission columns.\n",
    "   * Convert this dataframe into a numpy matrix.\n",
    "\n",
    "There are thus 180295 apps (documents) and 173 permissions (words).\n",
    "\n",
    "   - `X` is the \"document\" or \"word-frequency\" matrix.\n",
    "   - `permission_columns` contains the words ordered by their column index in X.\n",
    "   - `app_names` contains the application names ordered by their row index in X.\n",
    "   - `app_ratings` contains the *number* of application ratings (not the ratings themselves)."
   ]
  },
  {
   "cell_type": "code",
   "execution_count": 15,
   "metadata": {},
   "outputs": [],
   "source": [
    "permission_columns = list(df.columns[10:])\n",
    "app_names = list(df[\"App\"])\n",
    "app_ratings = np.array(df[\"Number of ratings\"])\n",
    "df_perms = df[permission_columns]\n",
    "X = df_perms.values\n",
    "del df # uncomment to free up RAM\n",
    "del df_perms # uncomment to free up RAM"
   ]
  },
  {
   "cell_type": "markdown",
   "metadata": {},
   "source": [
    "### Part C: Downweight \"stopwords\" [2.5 points]\n",
    "\n",
    "There are some permissions requested by almost all applications (like \"INTERNET\"), they are similar to stop-words (\"the\", \"and\", etc.) in natural language. We can downweight them by TF-IDF normalization.\n",
    "\n",
    "   * Use the `TfidfTransformer` class in `scikit-learn` to transform X."
   ]
  },
  {
   "cell_type": "code",
   "execution_count": 16,
   "metadata": {},
   "outputs": [],
   "source": [
    "from sklearn.feature_extraction.text import TfidfTransformer\n",
    "\n",
    "# apply TF-IDF normalization to X\n",
    "transformer = TfidfTransformer()\n",
    "X_tfidf = transformer.fit_transform(X)\n",
    "\n",
    "# convert sparse matrix to numpy array\n",
    "X_tfidf = X_tfidf.toarray()"
   ]
  },
  {
   "cell_type": "markdown",
   "metadata": {},
   "source": [
    "### Part D: Discover 10 \"topics\" [2.5 points]\n",
    "\n",
    "   * Use the `LatentDirichletAllocation` class in `scikit-learn` to fit 10 topics to the data.\n",
    "   * Use 10 max iterations, set `n_jobs=-1` to use all cores on your machine (if it helps).\n",
    "   * Feel free to understand and play around with other parameters.\n",
    "   * This may take around 3 minutes to run."
   ]
  },
  {
   "cell_type": "code",
   "execution_count": 17,
   "metadata": {},
   "outputs": [
    {
     "name": "stdout",
     "output_type": "stream",
     "text": [
      "Wall time: 1min 12s\n"
     ]
    },
    {
     "data": {
      "text/plain": [
       "LatentDirichletAllocation(n_jobs=-1)"
      ]
     },
     "execution_count": 17,
     "metadata": {},
     "output_type": "execute_result"
    }
   ],
   "source": [
    "%%time\n",
    "from sklearn.decomposition import LatentDirichletAllocation\n",
    "\n",
    "# create an instance of LatentDirichletAllocation with 10 topics\n",
    "lda = LatentDirichletAllocation(n_components=10, max_iter=10, n_jobs=-1)\n",
    "\n",
    "# fit the model to the permission matrix\n",
    "lda.fit(X_tfidf)"
   ]
  },
  {
   "cell_type": "markdown",
   "metadata": {},
   "source": [
    "Now each app can be viewed as a distribution over these 10 topics, and each topic is a distribution over all the permissions in the data."
   ]
  },
  {
   "cell_type": "markdown",
   "metadata": {},
   "source": [
    "### Part E: List the top 10 \"words\" in each topic [15 points]\n",
    "\n",
    "Do any of the topics correspond to meaningful app \"purposes\"? List the ones you find meaningful below:\n",
    "\n",
    "   * Topic #i: \"your interpretation\""
   ]
  },
  {
   "cell_type": "code",
   "execution_count": 18,
   "metadata": {},
   "outputs": [
    {
     "name": "stdout",
     "output_type": "stream",
     "text": [
      "Topic#0\n",
      "Services that cost you money : directly call phone numbers (D)\n",
      "Your location : fine (GPS) location (D)\n",
      "Network communication : receive data from Internet (S)\n",
      "Network communication : full Internet access (D)\n",
      "Your location : coarse (network-based) location (D)\n",
      "Network communication : view network state (S)\n",
      "Phone calls : read phone state and identity (D)\n",
      "Your location : mock location sources for testing (D)\n",
      "Storage : modify/delete USB storage contents modify/delete SD card contents (D)\n",
      "System tools : retrieve running applications (D)\n",
      " \n",
      "Topic#1\n",
      "Hardware controls : record audio (D)\n",
      "Hardware controls : change your audio settings (D)\n",
      "System tools : prevent device from sleeping (D)\n",
      "System tools : disable keylock (D)\n",
      "Storage : modify/delete USB storage contents modify/delete SD card contents (D)\n",
      "Hardware controls : control vibrator (S)\n",
      "Network communication : create Bluetooth connections (D)\n",
      "Your personal information : read sensitive log data (D)\n",
      "Network communication : full Internet access (D)\n",
      "Network communication : view network state (S)\n",
      " \n",
      "Topic#2\n",
      "Your personal information : read contact data (D)\n",
      "Services that cost you money : send SMS messages (D)\n",
      "Your messages : receive SMS (D)\n",
      "Your personal information : write contact data (D)\n",
      "Your messages : read SMS or MMS (D)\n",
      "Phone calls : read phone state and identity (D)\n",
      "Your messages : edit SMS or MMS (D)\n",
      "Network communication : full Internet access (D)\n",
      "Services that cost you money : directly call phone numbers (D)\n",
      "Your accounts : discover known accounts (S)\n",
      " \n",
      "Topic#3\n",
      "Your location : coarse (network-based) location (D)\n",
      "Your location : fine (GPS) location (D)\n",
      "Network communication : full Internet access (D)\n",
      "Network communication : view network state (S)\n",
      "Phone calls : read phone state and identity (D)\n",
      "Storage : modify/delete USB storage contents modify/delete SD card contents (D)\n",
      "Your accounts : discover known accounts (S)\n",
      "System tools : automatically start at boot (S)\n",
      "Hardware controls : control vibrator (S)\n",
      "Your location : access extra location provider commands (S)\n",
      " \n",
      "Topic#4\n",
      "Network communication : view network state (S)\n",
      "Network communication : full Internet access (D)\n",
      "System tools : set wallpaper (S)\n",
      "Storage : modify/delete USB storage contents modify/delete SD card contents (D)\n",
      "System tools : retrieve running applications (D)\n",
      "System tools : mount and unmount filesystems (D)\n",
      "Phone calls : read phone state and identity (D)\n",
      "Default : coarse (network-based) location (S)\n",
      "System tools : change background data usage setting (S)\n",
      "Your personal information : read sensitive log data (D)\n",
      " \n",
      "Topic#5\n",
      "System tools : modify global system settings (D)\n",
      "System tools : automatically start at boot (S)\n",
      "Your personal information : read calendar events (D)\n",
      "System tools : change Wi-Fi state (D)\n",
      "Your personal information : add or modify calendar events and send email to guests (D)\n",
      "Network communication : view network state (S)\n",
      "Storage : modify/delete USB storage contents modify/delete SD card contents (D)\n",
      "Network communication : full Internet access (D)\n",
      "Network communication : view Wi-Fi state (S)\n",
      "Phone calls : read phone state and identity (D)\n",
      " \n",
      "Topic#6\n",
      "Network communication : view Wi-Fi state (S)\n",
      "Storage : modify/delete USB storage contents modify/delete SD card contents (D)\n",
      "Network communication : view network state (S)\n",
      "Network communication : full Internet access (D)\n",
      "Phone calls : read phone state and identity (D)\n",
      "System tools : change your UI settings (D)\n",
      "System tools : prevent device from sleeping (D)\n",
      "Your accounts : discover known accounts (S)\n",
      "Your accounts : use the authentication credentials of an account (D)\n",
      "Hardware controls : control vibrator (S)\n",
      " \n",
      "Topic#7\n",
      "Storage : modify/delete USB storage contents modify/delete SD card contents (D)\n",
      "System tools : prevent device from sleeping (D)\n",
      "Network communication : full Internet access (D)\n",
      "Phone calls : read phone state and identity (D)\n",
      "Network communication : view network state (S)\n",
      "System tools : automatically start at boot (S)\n",
      "Network communication : receive data from Internet (S)\n",
      "Hardware controls : control vibrator (S)\n",
      "Default : directly install applications (S)\n",
      "Your location : fine (GPS) location (D)\n",
      " \n",
      "Topic#8\n",
      "Hardware controls : control vibrator (S)\n",
      "Network communication : full Internet access (D)\n",
      "Hardware controls : take pictures and videos (D)\n",
      "Network communication : view network state (S)\n",
      "Storage : modify/delete USB storage contents modify/delete SD card contents (D)\n",
      "Phone calls : read phone state and identity (D)\n",
      "System tools : automatically start at boot (S)\n",
      "System tools : kill background processes (S)\n",
      "Your personal information : read Browser's history and bookmarks (D)\n",
      "Your personal information : write Browser's history and bookmarks (D)\n",
      " \n",
      "Topic#9\n",
      "Network communication : full Internet access (D)\n",
      "Phone calls : read phone state and identity (D)\n",
      "Network communication : view network state (S)\n",
      "Network communication : download files without notification (S)\n",
      "Hardware controls : change your audio settings (D)\n",
      "Your accounts : Google Voice (D)\n",
      "Your location : fine (GPS) location (D)\n",
      "Your location : coarse (network-based) location (D)\n",
      "Storage : modify/delete USB storage contents modify/delete SD card contents (D)\n",
      "System tools : automatically start at boot (S)\n",
      " \n"
     ]
    }
   ],
   "source": [
    "def ntopwlst(model, features, ntopwords):\n",
    "    '''create a list of the top topc words'''\n",
    "    output = []\n",
    "    for topic_idx, topic in enumerate(model.components_): # compose output message with top words\n",
    "        output.append('Topic' + '#' + str(topic_idx))\n",
    "        output += [features[i] for i in topic.argsort()[:-ntopwords - 1:-1]] # [start (0 if omitted): end : slicing increment]\n",
    "    return output\n",
    "\n",
    "ntopwords = 10 # change this to show more words for the topic selector (20)\n",
    "feature_names = permission_columns\n",
    "topwds = ntopwlst(lda, feature_names, ntopwords)\n",
    "\n",
    "for i in range (10):\n",
    "    print('\\n'.join(topwds[11*i:11*i+11]))\n",
    "    print(' ')"
   ]
  },
  {
   "cell_type": "markdown",
   "metadata": {},
   "source": [
    "*** WRITE YOUR ANSWER HERE IN TEXT ***\n",
    "\n",
    "Not all topics have corresponding meaningful \"purposes\".\n",
    "\n",
    "Topic 3,4,5 all have similar high frequency words of \"Network communication\" and related stuff.\n",
    "\n",
    "The following are possible explanantions for materials in topics:\n",
    "\n",
    "Topic 1:How to set Wi-Fi and connect to internet.\n",
    "\n",
    "Topic 9:Set and get access to Network(seems to have topic words related to default settings.)\n",
    "\n",
    "Topic 6:Services provided by network and personal accounts."
   ]
  },
  {
   "cell_type": "markdown",
   "metadata": {},
   "source": [
    "### Part F: For each topic, list the top 3 apps with at least 100000 ratings having the highest probability assigned to that topic [15 points]\n",
    "\n",
    "   - This further helps us understand what the topics actually mean.\n",
    "   - However, the data is noisy and this exercise may result in listing a bunch of obscure apps.\n",
    "   - Hence, filtering out all apps with less than 100000 ratings may help."
   ]
  },
  {
   "cell_type": "code",
   "execution_count": 19,
   "metadata": {},
   "outputs": [
    {
     "name": "stdout",
     "output_type": "stream",
     "text": [
      "Topic #0:\n",
      "\teBuddy Messenger\n",
      "\tTalking Tom Cat Free\n",
      "\tShazam\n",
      "\n",
      "Topic #1:\n",
      "\tTango Voice & Video Calls\n",
      "\tGoogle Maps\n",
      "\tKakaoTalk Mes???sen???ger\n",
      "\n",
      "Topic #2:\n",
      "\tRingdroid\n",
      "\tchompSMS\n",
      "\tZynga Poker\n",
      "\n",
      "Topic #3:\n",
      "\tToss It\n",
      "\tGasBuddy\n",
      "\tDictionary.com\n",
      "\n",
      "Topic #4:\n",
      "\tWallpapers HD\n",
      "\tYoo Ninja! Free\n",
      "\tAngry Birds Seasons\n",
      "\n",
      "Topic #5:\n",
      "\tInotia3: Children of Carnia\n",
      "\tGoogle Sky Map\n",
      "\tBattery Widget\n",
      "\n",
      "Topic #6:\n",
      "\tAngry Birds\n",
      "\tAngry Birds Rio\n",
      "\tFruit Slice\n",
      "\n",
      "Topic #7:\n",
      "\tRestaurant Story™\n",
      "\tRestaurant Story???\n",
      "\tReal BlackJack\n",
      "\n",
      "Topic #8:\n",
      "\tBrightest Flashlight Free™\n",
      "\tBrightest Flashlight Free???\n",
      "\tBunny Shooter\n",
      "\n",
      "Topic #9:\n",
      "\tBlast Monkeys\n",
      "\tAdobe Reader\n",
      "\tAdobe Flash Player 11\n",
      "\n"
     ]
    }
   ],
   "source": [
    "topic_proportions = lda.transform(X_tfidf)\n",
    "for i in range(10):\n",
    "    idx = np.argsort(topic_proportions[:,i])[::-1]\n",
    "    standard = app_ratings > 100000\n",
    "    print(\"Topic #\" + str(i) + \":\")\n",
    "    counter = 3\n",
    "    for app_idx in idx:\n",
    "        if counter <= 0:\n",
    "            break\n",
    "        if standard[app_idx] == False:\n",
    "            continue\n",
    "        app = app_names[app_idx]\n",
    "        print(\"\\t\" + app )\n",
    "        counter -= 1\n",
    "    print()"
   ]
  },
  {
   "cell_type": "markdown",
   "metadata": {},
   "source": [
    "### Part G: Visualize the document-topic proportion matrix in 2-D using t-SNE [15 points]\n",
    "\n",
    "Does our reduced dimensional space contain any structure? Visualize the documents (in the topic-space) using t-SNE.\n",
    "\n",
    "   * Use `TSNE` from `scikit-learn`.\n",
    "   * Set the angle to 0.99 and init to 'PCA'. Pick any learning rate that gives you a visually pleasing result.\n",
    "   * You may `fit` TSNE to a sample of the data (>1000 documents) instead of the full data.\n",
    "   * Remember to call `fit_transform` to obtain your 2-D data.\n",
    "   * Plot the t-SNE dimensions as a scatterplot.\n",
    "   * Color each point based on its most probable topic. Make sure you include a legend (10 colors).\n",
    "   \n",
    "Clusters in the t-SNE plot indicate groups of apps that have similar topics."
   ]
  },
  {
   "cell_type": "code",
   "execution_count": 20,
   "metadata": {},
   "outputs": [
    {
     "name": "stdout",
     "output_type": "stream",
     "text": [
      "[t-SNE] Computing 211 nearest neighbors...\n",
      "[t-SNE] Indexed 2000 samples in 0.023s...\n",
      "[t-SNE] Computed neighbors for 2000 samples in 0.380s...\n",
      "[t-SNE] Computed conditional probabilities for sample 1000 / 2000\n",
      "[t-SNE] Computed conditional probabilities for sample 2000 / 2000\n",
      "[t-SNE] Mean sigma: 0.000000\n",
      "[t-SNE] KL divergence after 250 iterations with early exaggeration: 50.926903\n",
      "[t-SNE] KL divergence after 1000 iterations: -0.173351\n"
     ]
    },
    {
     "data": {
      "image/png": "[encoded data removed]",
      "text/plain": [
       "<Figure size 1152x720 with 1 Axes>"
      ]
     },
     "metadata": {
      "needs_background": "light"
     },
     "output_type": "display_data"
    },
    {
     "name": "stdout",
     "output_type": "stream",
     "text": [
      "Wall time: 28.2 s\n"
     ]
    }
   ],
   "source": [
    "%%time\n",
    "from sklearn.manifold import TSNE\n",
    "\n",
    "perplexity = 70\n",
    "#set parameters of TSNE as required.\n",
    "tsne_model = TSNE(n_components=2, learning_rate=800, perplexity=perplexity,\n",
    "                      verbose=1, random_state=0, angle=.99, init='pca')\n",
    "\n",
    "topic_tsne_lda = tsne_model.fit_transform(topic_proportions[:2000,:])\n",
    "# choose sample size of 2000 to fit into TSNE\n",
    "plt.figure(figsize=(16,10))\n",
    "most_probable_topic = np.argmax(topic_proportions, axis=1)[:2000]\n",
    "for t in range(10):\n",
    "    plt.plot(topic_tsne_lda[most_probable_topic==t,0], topic_tsne_lda[most_probable_topic==t,1], 'o',\n",
    "                 label=\"Topic \" + str(t))\n",
    "plt.legend(loc='upper right')\n",
    "plt.title('Perplexity: %f' % perplexity)\n",
    "plt.grid()\n",
    "plt.show()"
   ]
  },
  {
   "cell_type": "markdown",
   "metadata": {},
   "source": [
    "Based on our above plot,perplexity = 70 has a separable cluster of different topics and the graph is visually pleasing.We may also try fine-tuning parameters like angle or increase sample size to get more accurate results."
   ]
  },
  {
   "cell_type": "code",
   "execution_count": null,
   "metadata": {},
   "outputs": [],
   "source": []
  }
 ],
 "metadata": {
  "kernelspec": {
   "display_name": "Python 3 (ipykernel)",
   "language": "python",
   "name": "python3"
  },
  "language_info": {
   "codemirror_mode": {
    "name": "ipython",
    "version": 3
   },
   "file_extension": ".py",
   "mimetype": "text/x-python",
   "name": "python",
   "nbconvert_exporter": "python",
   "pygments_lexer": "ipython3",
   "version": "3.9.7"
  }
 },
 "nbformat": 4,
 "nbformat_minor": 2
}
